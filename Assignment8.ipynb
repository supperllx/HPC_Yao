{
 "cells": [
  {
   "cell_type": "code",
   "execution_count": 32,
   "metadata": {},
   "outputs": [],
   "source": [
    "# You can import *ANYTHING* you want here.\n",
    "import numpy as np\n",
    "import matplotlib.pyplot as plt\n",
    "import matplotlib as mpl\n",
    "from sklearn.tree import DecisionTreeClassifier\n",
    "from sklearn.ensemble import BaggingClassifier, RandomForestClassifier\n",
    "from sklearn.metrics import accuracy_score\n",
    "from xgboost import XGBClassifier\n",
    "import pandas as pd\n",
    "from tqdm import tqdm # this is just a tool to show a progress bar as your simulations are running"
   ]
  },
  {
   "cell_type": "markdown",
   "metadata": {},
   "source": [
    "# Assignment 10: Nested Spheres\n",
    "\n",
    "Simulation is an incredibly useful tool in data science.  We can use simulation to evaluate how algorithms perform against ground truth, and how algorithms compare to one another.\n",
    "\n",
    "In this assignment, you will be implementing and extending the nested spheres simulation study found in *Elements of Statistical Learning* page 339. https://web.stanford.edu/~hastie/ElemStatLearn/\n",
    "\n",
    "# Nested Spheres\n",
    "\n",
    "Consider a dataset which contains 10 features $X_1 \\,, X_2 \\,, \\cdots \\,, X_{10}$.  The features are standard independent Gaussian random variables.  That is to say\n",
    "\n",
    "$$ X_j \\sim \\operatorname{Normal}(0,1) \\quad \\forall j = 1 \\dots 10$$\n",
    "\n",
    "We are going to use these features to study a classification problem.  You will have to create the target variable, $Y$ by computing the following rule:\n",
    "\n",
    "$$ Y = \\begin{cases}  1 \\quad \\mbox{ if } \\sum_{j=1}^{10} X^2_j>9.34 \\\\ 0 \\quad  \\mbox{else} \\end{cases}$$\n",
    "\n",
    "# The Simulation Study\n",
    "\n",
    "Follow these steps to complete the assignment. "
   ]
  },
  {
   "cell_type": "markdown",
   "metadata": {},
   "source": [
    "### Part 1 ( X / 25 pts )\n",
    "Write a function, `generate_data`, that takes a dataset size N and creates a dataset according to the rule above, returning the feature matrix `X` and the labels `y`."
   ]
  },
  {
   "cell_type": "code",
   "execution_count": 33,
   "metadata": {},
   "outputs": [],
   "source": [
    "def generate_data(N):\n",
    "    # Create feature matrix X and labels y\n",
    "    X = np.random.normal(0, 1, size = (N, 10))\n",
    "    y = np.zeros(N)\n",
    "    for i in range(N):\n",
    "        y[i] = 1 if np.sum(X[i, :]*X[i, :])>9.34 else 0\n",
    "    return X, y"
   ]
  },
  {
   "cell_type": "markdown",
   "metadata": {},
   "source": [
    "## Part 2 ( X / 25 pts )\n",
    "\n",
    "Write a function `run_simulation` that accepts two numbers, Ntrain and Ntest. It should generate a training set and testing set using your `generate_data` function and then train **four classifiers**. The first should be a bagged decision tree, the second should be a random forest with `max_features=1`, the third should be a random forest with `max_features=3`, and the fourth can be anything you like, for example a random forest with more features or an XGboost model. Use 500 trees in your random forests and the bagged classifier. The function should return the accuracy for each of these models estimated using the training set you generated."
   ]
  },
  {
   "cell_type": "code",
   "execution_count": 34,
   "metadata": {},
   "outputs": [],
   "source": [
    "def run_simulation(NtrainX, Ntrainy, NtestX, Ntesty):\n",
    "    \n",
    "    # Code to generate data and run one simulation\n",
    "    bag = BaggingClassifier(DecisionTreeClassifier(max_depth = 5), n_estimators=500, n_jobs = 28)\n",
    "    rf_mf1 = RandomForestClassifier(n_estimators=500, # Number of trees to train\n",
    "                       criterion='gini', # How to train the trees. Also supports entropy.\n",
    "                       max_depth=None, # Max depth of the trees. Not necessary to change.\n",
    "                       min_samples_split=2, # Minimum samples to create a split.\n",
    "                       min_samples_leaf=0.001, # Minimum samples in a leaf. Accepts fractions for %. This is 0.1% of sample.\n",
    "                       min_weight_fraction_leaf=0.0, # Same as above, but uses the class weights.\n",
    "                       max_features=1, # Maximum number of features per split (not tree!) by default is sqrt(vars)\n",
    "                       max_leaf_nodes=None, # Maximum number of nodes.\n",
    "                       min_impurity_decrease=0.0001, # Minimum impurity decrease. This is 10^-3.\n",
    "                       bootstrap=True, # If sample with repetition. For large samples (>100.000) set to false.\n",
    "                       oob_score=True,  # If report accuracy with non-selected cases.\n",
    "                       n_jobs=28, # Parallel processing. Set to -1 for all cores. Watch your RAM!!\n",
    "                       random_state=0, # Seed\n",
    "                       verbose=0, # If to give info during training. Set to 0 for silent training.\n",
    "                       warm_start=False, # If train over previously trained tree.\n",
    "                       class_weight='balanced')\n",
    "    rf_mf3 = RandomForestClassifier(n_estimators=500, # Number of trees to train\n",
    "                       criterion='gini', # How to train the trees. Also supports entropy.\n",
    "                       max_depth=None, # Max depth of the trees. Not necessary to change.\n",
    "                       min_samples_split=2, # Minimum samples to create a split.\n",
    "                       min_samples_leaf=0.001, # Minimum samples in a leaf. Accepts fractions for %. This is 0.1% of sample.\n",
    "                       min_weight_fraction_leaf=0.0, # Same as above, but uses the class weights.\n",
    "                       max_features=3, # Maximum number of features per split (not tree!) by default is sqrt(vars)\n",
    "                       max_leaf_nodes=None, # Maximum number of nodes.\n",
    "                       min_impurity_decrease=0.0001, # Minimum impurity decrease. This is 10^-3.\n",
    "                       bootstrap=True, # If sample with repetition. For large samples (>100.000) set to false.\n",
    "                       oob_score=True,  # If report accuracy with non-selected cases.\n",
    "                       n_jobs=28, # Parallel processing. Set to -1 for all cores. Watch your RAM!!\n",
    "                       random_state=0, # Seed\n",
    "                       verbose=0, # If to give info during training. Set to 0 for silent training.\n",
    "                       warm_start=False, # If train over previously trained tree.\n",
    "                       class_weight='balanced')\n",
    "    my_classifier = XGBClassifier(max_depth=2,                 # Depth of each tree\n",
    "                            learning_rate=0.05,            # How much to shrink error in each subsequent training. Trade-off with no. estimators.\n",
    "                            n_estimators=500,             # How many trees to use, the more the better, but decrease learning rate if many used.\n",
    "                            verbosity=1,                  # If to show more errors or not.\n",
    "                            objective='binary:logistic',  # Type of target variable.\n",
    "                            booster='gbtree',             # What to boost. Trees in this case.\n",
    "                            n_jobs=28,                     # Parallel jobs to run. Set your processor number.\n",
    "                            gamma=0.001,                  # Minimum loss reduction required to make a further partition on a leaf node of the tree. (Controls growth!)\n",
    "                            subsample=1,                  # Subsample ratio. Can set lower\n",
    "                            colsample_bytree=1,           # Subsample ratio of columns when constructing each tree.\n",
    "                            colsample_bylevel=1,          # Subsample ratio of columns when constructing each level. 0.33 is similar to random forest.\n",
    "                            colsample_bynode=1,           # Subsample ratio of columns when constructing each split.\n",
    "                            reg_alpha=1,                  # Regularizer for first fit. alpha = 1, lambda = 0 is LASSO.\n",
    "                            reg_lambda=0,                 # Regularizer for first fit.\n",
    "                            scale_pos_weight=1,           # Balancing of positive and negative weights.\n",
    "                            base_score=0.5,               # Global bias. Set to average of the target rate.\n",
    "                            random_state=0,        # Seed\n",
    "                            missing=None)\n",
    "   \n",
    "    models = [bag, rf_mf1, rf_mf3, my_classifier]\n",
    "    predictions = np.zeros((NtestX.shape[0], len(models)))\n",
    "    \n",
    "    for i, model in enumerate(models):\n",
    "        model.fit(NtrainX, Ntrainy)\n",
    "        predictions[:, i] = model.predict(NtestX)\n",
    "        \n",
    "    bag_accuracy = accuracy_score(Ntesty, predictions[:,0])\n",
    "    rf_mf1_accuracy = accuracy_score(Ntesty, predictions[:,1])\n",
    "    rf_mf3_accuracy = accuracy_score(Ntesty, predictions[:,2])\n",
    "    my_classifier_accuracy = accuracy_score(Ntesty, predictions[:,3])\n",
    "    \n",
    "    return bag_accuracy, rf_mf1_accuracy, rf_mf3_accuracy, my_classifier_accuracy"
   ]
  },
  {
   "cell_type": "markdown",
   "metadata": {},
   "source": [
    "## Part 3 ( X / 25 pts )\n",
    "\n",
    "Run 50 simulations using a training set of size 1000 and a test set of size 5000 and record all the results in four vectors, one for each type of model. *You should probably debug your code using smaller training and test set sized first because these will take a while. The full simulation takes 10 minutes on my old 2.8GHz core i5 laptop.*"
   ]
  },
  {
   "cell_type": "code",
   "execution_count": 35,
   "metadata": {},
   "outputs": [
    {
     "name": "stderr",
     "output_type": "stream",
     "text": [
      "100%|██████████| 50/50 [02:38<00:00,  3.18s/it]"
     ]
    },
    {
     "name": "stdout",
     "output_type": "stream",
     "text": [
      "[[0.7112 0.8618 0.8278 0.863 ]\n",
      " [0.73   0.8696 0.8516 0.8642]\n",
      " [0.7682 0.8852 0.8644 0.8796]\n",
      " [0.7486 0.8676 0.849  0.8728]\n",
      " [0.7092 0.8504 0.839  0.8664]\n",
      " [0.7006 0.8602 0.8336 0.8598]\n",
      " [0.7754 0.8636 0.8566 0.8682]\n",
      " [0.7658 0.875  0.864  0.8778]\n",
      " [0.7152 0.8506 0.8378 0.8544]\n",
      " [0.7362 0.866  0.858  0.8674]\n",
      " [0.7652 0.8728 0.8572 0.8722]\n",
      " [0.7546 0.8644 0.8428 0.8726]\n",
      " [0.7632 0.8714 0.8622 0.8726]\n",
      " [0.7548 0.868  0.8526 0.8716]\n",
      " [0.7244 0.8646 0.8522 0.873 ]\n",
      " [0.7614 0.8674 0.8586 0.873 ]\n",
      " [0.755  0.8624 0.8532 0.8694]\n",
      " [0.696  0.8468 0.8272 0.8636]\n",
      " [0.7138 0.8486 0.8304 0.8578]\n",
      " [0.7104 0.8678 0.8454 0.8626]\n",
      " [0.736  0.862  0.852  0.8756]\n",
      " [0.737  0.861  0.8448 0.8688]\n",
      " [0.7138 0.8512 0.832  0.8594]\n",
      " [0.7336 0.8932 0.8768 0.8812]\n",
      " [0.7004 0.8562 0.837  0.8576]\n",
      " [0.7604 0.8816 0.863  0.868 ]\n",
      " [0.7298 0.8688 0.8542 0.8608]\n",
      " [0.737  0.8646 0.8524 0.873 ]\n",
      " [0.7764 0.8778 0.855  0.8794]\n",
      " [0.7338 0.8588 0.8502 0.8668]\n",
      " [0.7286 0.861  0.8376 0.8566]\n",
      " [0.7378 0.851  0.8404 0.879 ]\n",
      " [0.7196 0.8816 0.8648 0.8748]\n",
      " [0.7006 0.872  0.8532 0.87  ]\n",
      " [0.7198 0.869  0.8518 0.8664]\n",
      " [0.7206 0.8536 0.8446 0.874 ]\n",
      " [0.7272 0.8554 0.851  0.8676]\n",
      " [0.7142 0.8592 0.8398 0.8626]\n",
      " [0.7498 0.866  0.8484 0.8704]\n",
      " [0.7564 0.859  0.841  0.8656]\n",
      " [0.7434 0.873  0.8548 0.8578]\n",
      " [0.7596 0.8656 0.8588 0.8716]\n",
      " [0.6942 0.8522 0.8294 0.8622]\n",
      " [0.7726 0.8568 0.8524 0.877 ]\n",
      " [0.7752 0.8596 0.8446 0.8742]\n",
      " [0.7066 0.8612 0.8482 0.8644]\n",
      " [0.7172 0.8622 0.8502 0.8676]\n",
      " [0.7188 0.8592 0.8426 0.8576]\n",
      " [0.7176 0.8658 0.843  0.8644]\n",
      " [0.735  0.852  0.8446 0.8642]]\n"
     ]
    },
    {
     "name": "stderr",
     "output_type": "stream",
     "text": [
      "\n"
     ]
    }
   ],
   "source": [
    "#Setup code to record results here:\n",
    "Nsim=50\n",
    "accuracy50 = np.zeros((Nsim, 4))\n",
    "\n",
    "#Loop to run simulations:\n",
    "for sim in tqdm(range(Nsim)):\n",
    "    # Run simulations, collect data\n",
    "    trainX, trainy = generate_data(1000)\n",
    "    testX, testy = generate_data(5000)\n",
    "    accuracy50[sim, :] = run_simulation(trainX, trainy, testX, testy)\n",
    "    \n",
    "print(accuracy50)"
   ]
  },
  {
   "cell_type": "markdown",
   "metadata": {},
   "source": [
    "## Part 4 (X / 25 pts) \n",
    "Plot the error rates for each model using a boxplot for each one. The four models should be across the x-axis, and the y-axis should be accuracy."
   ]
  },
  {
   "cell_type": "code",
   "execution_count": 36,
   "metadata": {},
   "outputs": [
    {
     "data": {
      "text/plain": [
       "{'whiskers': [<matplotlib.lines.Line2D at 0x151cc91b63d0>,\n",
       "  <matplotlib.lines.Line2D at 0x151cc91b6880>,\n",
       "  <matplotlib.lines.Line2D at 0x151d049b5fd0>,\n",
       "  <matplotlib.lines.Line2D at 0x151cc9ce5220>,\n",
       "  <matplotlib.lines.Line2D at 0x151cc9c5aa60>,\n",
       "  <matplotlib.lines.Line2D at 0x151cc9c5a4f0>,\n",
       "  <matplotlib.lines.Line2D at 0x151cc92f62e0>,\n",
       "  <matplotlib.lines.Line2D at 0x151d4e7ec0a0>],\n",
       " 'caps': [<matplotlib.lines.Line2D at 0x151cc91b6a60>,\n",
       "  <matplotlib.lines.Line2D at 0x151cc91b6670>,\n",
       "  <matplotlib.lines.Line2D at 0x151cc9ce5f40>,\n",
       "  <matplotlib.lines.Line2D at 0x151cc8e80250>,\n",
       "  <matplotlib.lines.Line2D at 0x151cc9d0b910>,\n",
       "  <matplotlib.lines.Line2D at 0x151cc9d0b580>,\n",
       "  <matplotlib.lines.Line2D at 0x151d4e7ec1c0>,\n",
       "  <matplotlib.lines.Line2D at 0x151d4e7ecd00>],\n",
       " 'boxes': [<matplotlib.lines.Line2D at 0x151cc9c2f610>,\n",
       "  <matplotlib.lines.Line2D at 0x151d049b5c10>,\n",
       "  <matplotlib.lines.Line2D at 0x151cc8e807c0>,\n",
       "  <matplotlib.lines.Line2D at 0x151cc92d5520>],\n",
       " 'medians': [<matplotlib.lines.Line2D at 0x151d049b5bb0>,\n",
       "  <matplotlib.lines.Line2D at 0x151cc8e80f40>,\n",
       "  <matplotlib.lines.Line2D at 0x151cc9d0b9d0>,\n",
       "  <matplotlib.lines.Line2D at 0x151d4e7b8cd0>],\n",
       " 'fliers': [<matplotlib.lines.Line2D at 0x151d049b5280>,\n",
       "  <matplotlib.lines.Line2D at 0x151cc8e80130>,\n",
       "  <matplotlib.lines.Line2D at 0x151cc92d5670>,\n",
       "  <matplotlib.lines.Line2D at 0x151d4e7b8610>],\n",
       " 'means': []}"
      ]
     },
     "execution_count": 36,
     "metadata": {},
     "output_type": "execute_result"
    },
    {
     "data": {
      "image/png": "[encoded data removed]",
      "text/plain": [
       "<Figure size 432x288 with 1 Axes>"
      ]
     },
     "metadata": {
      "needs_background": "light"
     },
     "output_type": "display_data"
    }
   ],
   "source": [
    "#Plot the error rates as a box plot by model to complete the assignment.\n",
    "plt.boxplot(accuracy50, labels=['bagged_decision_tree', 'rf_mf1', 'rf_mf3', 'xgboost'])"
   ]
  },
  {
   "cell_type": "code",
   "execution_count": null,
   "metadata": {},
   "outputs": [],
   "source": []
  }
 ],
 "metadata": {
  "kernelspec": {
   "display_name": "Python 3",
   "language": "python",
   "name": "python3"
  },
  "language_info": {
   "codemirror_mode": {
    "name": "ipython",
    "version": 3
   },
   "file_extension": ".py",
   "mimetype": "text/x-python",
   "name": "python",
   "nbconvert_exporter": "python",
   "pygments_lexer": "ipython3",
   "version": "3.8.5"
  }
 },
 "nbformat": 4,
 "nbformat_minor": 4
}
